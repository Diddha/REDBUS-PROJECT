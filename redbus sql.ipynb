{
 "cells": [
  {
   "cell_type": "code",
   "execution_count": 1,
   "id": "ce272b60-661b-4d59-9dc5-aef66385cee6",
   "metadata": {},
   "outputs": [
    {
     "name": "stdout",
     "output_type": "stream",
     "text": [
      "Requirement already satisfied: mysql-connector-python in c:\\users\\hp\\anaconda3\\lib\\site-packages (9.0.0)\n"
     ]
    }
   ],
   "source": [
    "!pip3 install mysql-connector-python\n",
    "\n"
   ]
  },
  {
   "cell_type": "code",
   "execution_count": 3,
   "id": "a59ac066-3f9d-439f-8c20-7b8483c43297",
   "metadata": {},
   "outputs": [],
   "source": [
    "#importing libraries\n",
    "import pandas as pd\n",
    "import mysql.connector\n",
    "import numpy as np"
   ]
  },
  {
   "cell_type": "code",
   "execution_count": 5,
   "id": "f6445907-966f-4d38-bf9a-604945b5da58",
   "metadata": {},
   "outputs": [
    {
     "data": {
      "text/html": [
       "<div>\n",
       "<style scoped>\n",
       "    .dataframe tbody tr th:only-of-type {\n",
       "        vertical-align: middle;\n",
       "    }\n",
       "\n",
       "    .dataframe tbody tr th {\n",
       "        vertical-align: top;\n",
       "    }\n",
       "\n",
       "    .dataframe thead th {\n",
       "        text-align: right;\n",
       "    }\n",
       "</style>\n",
       "<table border=\"1\" class=\"dataframe\">\n",
       "  <thead>\n",
       "    <tr style=\"text-align: right;\">\n",
       "      <th></th>\n",
       "      <th>Bus_name</th>\n",
       "      <th>Bus_type</th>\n",
       "      <th>Start_time</th>\n",
       "      <th>End_time</th>\n",
       "      <th>Total_duration</th>\n",
       "      <th>Price</th>\n",
       "      <th>Seats_Available</th>\n",
       "      <th>Ratings</th>\n",
       "      <th>Route_link</th>\n",
       "      <th>Route_name</th>\n",
       "    </tr>\n",
       "  </thead>\n",
       "  <tbody>\n",
       "    <tr>\n",
       "      <th>0</th>\n",
       "      <td>MMK Travels</td>\n",
       "      <td>A/C Seater / Sleeper (2+1)</td>\n",
       "      <td>22:30</td>\n",
       "      <td>07:30</td>\n",
       "      <td>09h 00m</td>\n",
       "      <td>INR 750</td>\n",
       "      <td>18 Seats available</td>\n",
       "      <td>4.4\\n546</td>\n",
       "      <td>https://www.redbus.in/bus-tickets/bangalore-to...</td>\n",
       "      <td>Bangalore to Kozhikode</td>\n",
       "    </tr>\n",
       "    <tr>\n",
       "      <th>1</th>\n",
       "      <td>MMK Travels</td>\n",
       "      <td>A/C Sleeper (2+1)</td>\n",
       "      <td>23:00</td>\n",
       "      <td>07:30</td>\n",
       "      <td>08h 30m</td>\n",
       "      <td>INR 900</td>\n",
       "      <td>18 Seats available</td>\n",
       "      <td>4.1\\n22</td>\n",
       "      <td>https://www.redbus.in/bus-tickets/bangalore-to...</td>\n",
       "      <td>Bangalore to Kozhikode</td>\n",
       "    </tr>\n",
       "    <tr>\n",
       "      <th>2</th>\n",
       "      <td>NS Transports</td>\n",
       "      <td>Non A/C Seater / Sleeper (2+1)</td>\n",
       "      <td>21:45</td>\n",
       "      <td>06:10</td>\n",
       "      <td>08h 25m</td>\n",
       "      <td>693</td>\n",
       "      <td>16 Seats available</td>\n",
       "      <td>4.1\\n281</td>\n",
       "      <td>https://www.redbus.in/bus-tickets/bangalore-to...</td>\n",
       "      <td>Bangalore to Kozhikode</td>\n",
       "    </tr>\n",
       "    <tr>\n",
       "      <th>3</th>\n",
       "      <td>AdSAAM BUS</td>\n",
       "      <td>VE A/C Sleeper (2+1)</td>\n",
       "      <td>21:45</td>\n",
       "      <td>06:45</td>\n",
       "      <td>09h 00m</td>\n",
       "      <td>INR 900</td>\n",
       "      <td>13 Seats available</td>\n",
       "      <td>4.3\\n213</td>\n",
       "      <td>https://www.redbus.in/bus-tickets/bangalore-to...</td>\n",
       "      <td>Bangalore to Kozhikode</td>\n",
       "    </tr>\n",
       "    <tr>\n",
       "      <th>4</th>\n",
       "      <td>NS Transports</td>\n",
       "      <td>VE A/C Sleeper (2+1)</td>\n",
       "      <td>22:45</td>\n",
       "      <td>07:30</td>\n",
       "      <td>08h 45m</td>\n",
       "      <td>924</td>\n",
       "      <td>22 Seats available</td>\n",
       "      <td>4.0\\n301</td>\n",
       "      <td>https://www.redbus.in/bus-tickets/bangalore-to...</td>\n",
       "      <td>Bangalore to Kozhikode</td>\n",
       "    </tr>\n",
       "    <tr>\n",
       "      <th>...</th>\n",
       "      <td>...</td>\n",
       "      <td>...</td>\n",
       "      <td>...</td>\n",
       "      <td>...</td>\n",
       "      <td>...</td>\n",
       "      <td>...</td>\n",
       "      <td>...</td>\n",
       "      <td>...</td>\n",
       "      <td>...</td>\n",
       "      <td>...</td>\n",
       "    </tr>\n",
       "    <tr>\n",
       "      <th>2212</th>\n",
       "      <td>Satadal Travels</td>\n",
       "      <td>A/C Seater (2+2)</td>\n",
       "      <td>15:35</td>\n",
       "      <td>18:15</td>\n",
       "      <td>02h 40m</td>\n",
       "      <td>167</td>\n",
       "      <td>21 Seats available</td>\n",
       "      <td>3.5\\n87</td>\n",
       "      <td>https://www.redbus.in/bus-tickets/kolkata-to-h...</td>\n",
       "      <td>Kolkata to Haldia</td>\n",
       "    </tr>\n",
       "    <tr>\n",
       "      <th>2213</th>\n",
       "      <td>Swapna Paribahan</td>\n",
       "      <td>Non AC Seater (2+3)</td>\n",
       "      <td>16:55</td>\n",
       "      <td>21:25</td>\n",
       "      <td>04h 30m</td>\n",
       "      <td>INR 145</td>\n",
       "      <td>20 Seats available</td>\n",
       "      <td>New</td>\n",
       "      <td>https://www.redbus.in/bus-tickets/kolkata-to-h...</td>\n",
       "      <td>Kolkata to Haldia</td>\n",
       "    </tr>\n",
       "    <tr>\n",
       "      <th>2214</th>\n",
       "      <td>Droupadi Bus Service</td>\n",
       "      <td>Non AC Seater (2+3)</td>\n",
       "      <td>16:20</td>\n",
       "      <td>19:10</td>\n",
       "      <td>02h 50m</td>\n",
       "      <td>INR 121</td>\n",
       "      <td>52 Seats available</td>\n",
       "      <td>2.2\\n22</td>\n",
       "      <td>https://www.redbus.in/bus-tickets/kolkata-to-h...</td>\n",
       "      <td>Kolkata to Haldia</td>\n",
       "    </tr>\n",
       "    <tr>\n",
       "      <th>2215</th>\n",
       "      <td>WBTC (CTC) Habra-Midnapur - 194|15:40</td>\n",
       "      <td>Non AC Seater (2+3)</td>\n",
       "      <td>15:40</td>\n",
       "      <td>18:40</td>\n",
       "      <td>03h 00m</td>\n",
       "      <td>INR 111</td>\n",
       "      <td>35 Seats available</td>\n",
       "      <td>3.8\\n22</td>\n",
       "      <td>https://www.redbus.in/bus-tickets/midnapore-to...</td>\n",
       "      <td>Midnapore to Kolkata Airport</td>\n",
       "    </tr>\n",
       "    <tr>\n",
       "      <th>2216</th>\n",
       "      <td>WBTC (CTC) Barasat-Midnapur - 208|17:00</td>\n",
       "      <td>Non AC Seater (2+3)</td>\n",
       "      <td>17:00</td>\n",
       "      <td>19:00</td>\n",
       "      <td>02h 00m</td>\n",
       "      <td>INR 111</td>\n",
       "      <td>41 Seats available</td>\n",
       "      <td>3.9</td>\n",
       "      <td>https://www.redbus.in/bus-tickets/midnapore-to...</td>\n",
       "      <td>Midnapore to Kolkata Airport</td>\n",
       "    </tr>\n",
       "  </tbody>\n",
       "</table>\n",
       "<p>2217 rows × 10 columns</p>\n",
       "</div>"
      ],
      "text/plain": [
       "                                     Bus_name                        Bus_type  \\\n",
       "0                                 MMK Travels      A/C Seater / Sleeper (2+1)   \n",
       "1                                 MMK Travels               A/C Sleeper (2+1)   \n",
       "2                               NS Transports  Non A/C Seater / Sleeper (2+1)   \n",
       "3                                  AdSAAM BUS            VE A/C Sleeper (2+1)   \n",
       "4                               NS Transports            VE A/C Sleeper (2+1)   \n",
       "...                                       ...                             ...   \n",
       "2212                          Satadal Travels                A/C Seater (2+2)   \n",
       "2213                         Swapna Paribahan             Non AC Seater (2+3)   \n",
       "2214                     Droupadi Bus Service             Non AC Seater (2+3)   \n",
       "2215    WBTC (CTC) Habra-Midnapur - 194|15:40             Non AC Seater (2+3)   \n",
       "2216  WBTC (CTC) Barasat-Midnapur - 208|17:00             Non AC Seater (2+3)   \n",
       "\n",
       "     Start_time End_time Total_duration    Price     Seats_Available  \\\n",
       "0         22:30    07:30        09h 00m  INR 750  18 Seats available   \n",
       "1         23:00    07:30        08h 30m  INR 900  18 Seats available   \n",
       "2         21:45    06:10        08h 25m      693  16 Seats available   \n",
       "3         21:45    06:45        09h 00m  INR 900  13 Seats available   \n",
       "4         22:45    07:30        08h 45m      924  22 Seats available   \n",
       "...         ...      ...            ...      ...                 ...   \n",
       "2212      15:35    18:15        02h 40m      167  21 Seats available   \n",
       "2213      16:55    21:25        04h 30m  INR 145  20 Seats available   \n",
       "2214      16:20    19:10        02h 50m  INR 121  52 Seats available   \n",
       "2215      15:40    18:40        03h 00m  INR 111  35 Seats available   \n",
       "2216      17:00    19:00        02h 00m  INR 111  41 Seats available   \n",
       "\n",
       "       Ratings                                         Route_link  \\\n",
       "0     4.4\\n546  https://www.redbus.in/bus-tickets/bangalore-to...   \n",
       "1      4.1\\n22  https://www.redbus.in/bus-tickets/bangalore-to...   \n",
       "2     4.1\\n281  https://www.redbus.in/bus-tickets/bangalore-to...   \n",
       "3     4.3\\n213  https://www.redbus.in/bus-tickets/bangalore-to...   \n",
       "4     4.0\\n301  https://www.redbus.in/bus-tickets/bangalore-to...   \n",
       "...        ...                                                ...   \n",
       "2212   3.5\\n87  https://www.redbus.in/bus-tickets/kolkata-to-h...   \n",
       "2213       New  https://www.redbus.in/bus-tickets/kolkata-to-h...   \n",
       "2214   2.2\\n22  https://www.redbus.in/bus-tickets/kolkata-to-h...   \n",
       "2215   3.8\\n22  https://www.redbus.in/bus-tickets/midnapore-to...   \n",
       "2216       3.9  https://www.redbus.in/bus-tickets/midnapore-to...   \n",
       "\n",
       "                        Route_name  \n",
       "0           Bangalore to Kozhikode  \n",
       "1           Bangalore to Kozhikode  \n",
       "2           Bangalore to Kozhikode  \n",
       "3           Bangalore to Kozhikode  \n",
       "4           Bangalore to Kozhikode  \n",
       "...                            ...  \n",
       "2212             Kolkata to Haldia  \n",
       "2213             Kolkata to Haldia  \n",
       "2214             Kolkata to Haldia  \n",
       "2215  Midnapore to Kolkata Airport  \n",
       "2216  Midnapore to Kolkata Airport  \n",
       "\n",
       "[2217 rows x 10 columns]"
      ]
     },
     "execution_count": 5,
     "metadata": {},
     "output_type": "execute_result"
    }
   ],
   "source": [
    "# csv to dataframe\n",
    "df_buses_1=pd.read_csv(r\"C:\\Users\\HP\\Desktop\\red bus\\df_buses_1.csv\")\n",
    "df_buses_2=pd.read_csv(r\"C:\\Users\\HP\\Desktop\\red bus\\df_buses_2.csv\")\n",
    "df_buses_3=pd.read_csv(r\"C:\\Users\\HP\\Desktop\\red bus\\df_buses_3.csv\")\n",
    "df_buses_4=pd.read_csv(r\"C:\\Users\\HP\\Desktop\\red bus\\df_buses_4.csv\")\n",
    "df_buses_5=pd.read_csv(r\"C:\\Users\\HP\\Desktop\\red bus\\df_buses_as.csv\")\n",
    "df_buses_6=pd.read_csv(r\"C:\\Users\\HP\\Desktop\\red bus\\df_buses_h.csv\")\n",
    "df_buses_7=pd.read_csv(r\"C:\\Users\\HP\\Desktop\\red bus\\df_buses_r.csv\")\n",
    "df_buses_8=pd.read_csv(r\"C:\\Users\\HP\\Desktop\\red bus\\df_buses_SB.csv\")\n",
    "df_buses_9=pd.read_csv(r\"C:\\Users\\HP\\Desktop\\red bus\\df_buses_9.csv\")\n",
    "df_buses_10=pd.read_csv(r\"C:\\Users\\HP\\Desktop\\red bus\\df_buses_10.csv\")\n",
    "\n",
    "Final_df=pd.concat([df_buses_1,df_buses_2,df_buses_3,df_buses_4,df_buses_5,df_buses_6,\n",
    "                    df_buses_7,df_buses_8,df_buses_9,df_buses_10],ignore_index=True)\n",
    "Final_df"
   ]
  },
  {
   "cell_type": "code",
   "execution_count": null,
   "id": "6a61fe67-4682-4c60-b05d-be8254de0c53",
   "metadata": {},
   "outputs": [],
   "source": [
    "DATA CLEANING"
   ]
  },
  {
   "cell_type": "code",
   "execution_count": 7,
   "id": "fb765921-8b87-484d-966c-3b40eb97f3fc",
   "metadata": {},
   "outputs": [
    {
     "name": "stdout",
     "output_type": "stream",
     "text": [
      "<class 'pandas.core.frame.DataFrame'>\n",
      "RangeIndex: 2217 entries, 0 to 2216\n",
      "Data columns (total 10 columns):\n",
      " #   Column           Non-Null Count  Dtype \n",
      "---  ------           --------------  ----- \n",
      " 0   Bus_name         2082 non-null   object\n",
      " 1   Bus_type         2057 non-null   object\n",
      " 2   Start_time       2082 non-null   object\n",
      " 3   End_time         2082 non-null   object\n",
      " 4   Total_duration   2082 non-null   object\n",
      " 5   Price            2079 non-null   object\n",
      " 6   Seats_Available  2075 non-null   object\n",
      " 7   Ratings          2080 non-null   object\n",
      " 8   Route_link       2217 non-null   object\n",
      " 9   Route_name       2217 non-null   object\n",
      "dtypes: object(10)\n",
      "memory usage: 173.3+ KB\n"
     ]
    }
   ],
   "source": [
    "# data about the data\n",
    "Final_df.info()\n"
   ]
  },
  {
   "cell_type": "code",
   "execution_count": 9,
   "id": "8410068f-0167-40d8-9fac-64a1d970ad03",
   "metadata": {},
   "outputs": [
    {
     "data": {
      "text/plain": [
       "0       750.0\n",
       "1       900.0\n",
       "2       693.0\n",
       "3       900.0\n",
       "4       924.0\n",
       "        ...  \n",
       "2212    167.0\n",
       "2213    145.0\n",
       "2214    121.0\n",
       "2215    111.0\n",
       "2216    111.0\n",
       "Name: Price, Length: 2217, dtype: float64"
      ]
     },
     "execution_count": 9,
     "metadata": {},
     "output_type": "execute_result"
    }
   ],
   "source": [
    "#convert prices to numeric\n",
    "Final_df[\"Price\"]=Final_df[\"Price\"].str.replace(\"INR\",\"\")\n",
    "Final_df[\"Price\"]=Final_df[\"Price\"].astype(float)\n",
    "Final_df[\"Price\"].fillna(0) "
   ]
  },
  {
   "cell_type": "code",
   "execution_count": 11,
   "id": "d5cddf37-cb75-4181-baee-318010de332a",
   "metadata": {},
   "outputs": [],
   "source": [
    "# Convert the Ratings column to string first to avoid the AttributeError\n",
    "Final_df[\"Ratings\"] = Final_df[\"Ratings\"].astype(str)\n",
    "\n",
    "# Replace \"New\" with an empty string and strip whitespaces\n",
    "Final_df[\"Ratings\"] = Final_df[\"Ratings\"].str.replace(\"New\", \"\", regex=False).str.strip()\n",
    "\n",
    "# Handle missing or empty values before splitting\n",
    "Final_df[\"Ratings\"] = Final_df[\"Ratings\"].fillna(\"\").str.split().str[0]\n",
    "\n",
    "# Convert to numeric, with errors coerced to NaN\n",
    "Final_df[\"Ratings\"] = pd.to_numeric(Final_df[\"Ratings\"], errors='coerce')\n",
    "\n",
    "# Fill NaN\n"
   ]
  },
  {
   "cell_type": "code",
   "execution_count": 13,
   "id": "f0d0d3e7-c8cc-4fa1-bd48-88a35fd4d3ee",
   "metadata": {},
   "outputs": [
    {
     "name": "stdout",
     "output_type": "stream",
     "text": [
      "<class 'pandas.core.frame.DataFrame'>\n",
      "RangeIndex: 2217 entries, 0 to 2216\n",
      "Data columns (total 10 columns):\n",
      " #   Column           Non-Null Count  Dtype  \n",
      "---  ------           --------------  -----  \n",
      " 0   Bus_name         2082 non-null   object \n",
      " 1   Bus_type         2057 non-null   object \n",
      " 2   Start_time       2082 non-null   object \n",
      " 3   End_time         2082 non-null   object \n",
      " 4   Total_duration   2082 non-null   object \n",
      " 5   Price            2079 non-null   float64\n",
      " 6   Seats_Available  2075 non-null   object \n",
      " 7   Ratings          2052 non-null   float64\n",
      " 8   Route_link       2217 non-null   object \n",
      " 9   Route_name       2217 non-null   object \n",
      "dtypes: float64(2), object(8)\n",
      "memory usage: 173.3+ KB\n"
     ]
    }
   ],
   "source": [
    "# info after the data type change\n",
    "Final_df.info()"
   ]
  },
  {
   "cell_type": "code",
   "execution_count": 16,
   "id": "fadd0248-72d3-49e8-82eb-1e01b91db05f",
   "metadata": {},
   "outputs": [
    {
     "name": "stdout",
     "output_type": "stream",
     "text": [
      "     Bus_name Bus_type Start_time End_time Total_duration  Price  \\\n",
      "473       NaN      NaN        NaN      NaN            NaN    NaN   \n",
      "474       NaN      NaN        NaN      NaN            NaN    NaN   \n",
      "475       NaN      NaN        NaN      NaN            NaN    NaN   \n",
      "476       NaN      NaN        NaN      NaN            NaN    NaN   \n",
      "477       NaN      NaN        NaN      NaN            NaN    NaN   \n",
      "...       ...      ...        ...      ...            ...    ...   \n",
      "1654      NaN      NaN        NaN      NaN            NaN    NaN   \n",
      "1687      NaN      NaN        NaN      NaN            NaN    NaN   \n",
      "1710      NaN      NaN        NaN      NaN            NaN    NaN   \n",
      "2200      NaN      NaN        NaN      NaN            NaN    NaN   \n",
      "2211      NaN      NaN        NaN      NaN            NaN    NaN   \n",
      "\n",
      "     Seats_Available  Ratings  \\\n",
      "473              NaN      NaN   \n",
      "474              NaN      NaN   \n",
      "475              NaN      NaN   \n",
      "476              NaN      NaN   \n",
      "477              NaN      NaN   \n",
      "...              ...      ...   \n",
      "1654             NaN      NaN   \n",
      "1687             NaN      NaN   \n",
      "1710             NaN      NaN   \n",
      "2200             NaN      NaN   \n",
      "2211             NaN      NaN   \n",
      "\n",
      "                                             Route_link  \\\n",
      "473   https://www.redbus.in/bus-tickets/bangalore-to...   \n",
      "474   https://www.redbus.in/bus-tickets/bangalore-to...   \n",
      "475   https://www.redbus.in/bus-tickets/bangalore-to...   \n",
      "476   https://www.redbus.in/bus-tickets/bangalore-to...   \n",
      "477   https://www.redbus.in/bus-tickets/bangalore-to...   \n",
      "...                                                 ...   \n",
      "1654  https://www.redbus.in/bus-tickets/kolkata-to-n...   \n",
      "1687  https://www.redbus.in/bus-tickets/digha-to-bar...   \n",
      "1710  https://www.redbus.in/bus-tickets/kolkata-to-r...   \n",
      "2200  https://www.redbus.in/bus-tickets/kolkata-to-d...   \n",
      "2211  https://www.redbus.in/bus-tickets/kolkata-to-a...   \n",
      "\n",
      "                               Route_name  \n",
      "473              Bangalore to Madanapalli  \n",
      "474              Bangalore to Madanapalli  \n",
      "475              Bangalore to Madanapalli  \n",
      "476              Bangalore to Madanapalli  \n",
      "477              Bangalore to Madanapalli  \n",
      "...                                   ...  \n",
      "1654  Kolkata to Nandakumar (west bengal)  \n",
      "1687       Digha to Barasat (West Bengal)  \n",
      "1710    Kolkata to Ramnagar (West Bengal)  \n",
      "2200    Kolkata to Durgapur (West Bengal)  \n",
      "2211     Kolkata to Asansol (West Bengal)  \n",
      "\n",
      "[142 rows x 10 columns]\n"
     ]
    }
   ],
   "source": [
    "missing_seats =  Final_df [Final_df[\"Seats_Available\"].isnull()]\n",
    "print(missing_seats)"
   ]
  },
  {
   "cell_type": "code",
   "execution_count": 15,
   "id": "bd488ce3-264d-4a18-994f-10f3e6bda4bc",
   "metadata": {},
   "outputs": [],
   "source": [
    "Final_df.dropna(subset=['Seats_Available'], inplace=True)  # Remove rows with NaN in Start_time"
   ]
  },
  {
   "cell_type": "code",
   "execution_count": 43,
   "id": "4f7daea0-19f5-46d2-b92f-0094ad728860",
   "metadata": {},
   "outputs": [],
   "source": [
    "# Filter out rows with null values in 'Bus_type'\n",
    "Final_df = Final_df.dropna(subset=['Bus_type'])\n"
   ]
  },
  {
   "cell_type": "code",
   "execution_count": 17,
   "id": "9b593784-cf27-4a8f-b3a2-f4e393e814c1",
   "metadata": {},
   "outputs": [],
   "source": [
    "Final_df = Final_df[Final_df[\"Price\"] <= 7000]"
   ]
  },
  {
   "cell_type": "code",
   "execution_count": 19,
   "id": "c4485b6e-5470-4ba6-92af-db78577d0d5a",
   "metadata": {},
   "outputs": [],
   "source": [
    "# replacing the nan value\n",
    "Final_df = Final_df.replace({np.nan: None})"
   ]
  },
  {
   "cell_type": "code",
   "execution_count": 21,
   "id": "ee2d14d7-eede-485d-bc89-aea2d516a73f",
   "metadata": {},
   "outputs": [],
   "source": [
    "# change dataframe to csv\n",
    "path=r\"C:\\Users\\HP\\Desktop\\red bus\\Final_busdetails_df.csv\"\n",
    "Final_df.to_csv(path,index=False)"
   ]
  },
  {
   "cell_type": "code",
   "execution_count": null,
   "id": "3c234ee9-542e-4fda-bc94-1900acf50d54",
   "metadata": {},
   "outputs": [],
   "source": [
    "CREATE A MYSQL DATABASE"
   ]
  },
  {
   "cell_type": "code",
   "execution_count": 27,
   "id": "a1a8cd33-1c75-4647-b372-3d7e86c12616",
   "metadata": {},
   "outputs": [],
   "source": [
    "mydb = mysql.connector.connect(\n",
    "  host=\"localhost\",\n",
    "  user=\"diddha\",\n",
    "  password=\"diddha#300396\",\n",
    "  #database='joins'\n",
    "  \n",
    ")\n"
   ]
  },
  {
   "cell_type": "code",
   "execution_count": 29,
   "id": "2fa08cf2-f56d-47b0-a711-e7763a3f6a03",
   "metadata": {},
   "outputs": [
    {
     "name": "stdout",
     "output_type": "stream",
     "text": [
      "<mysql.connector.connection_cext.CMySQLConnection object at 0x000002C13F530440>\n"
     ]
    }
   ],
   "source": [
    "print(mydb)\n",
    "mycursor = mydb.cursor(buffered=True)\n",
    "\n"
   ]
  },
  {
   "cell_type": "code",
   "execution_count": 31,
   "id": "c64e75fd-ea4d-48b2-a0f6-c0114e4237c8",
   "metadata": {},
   "outputs": [
    {
     "name": "stdout",
     "output_type": "stream",
     "text": [
      "('information_schema',)\n",
      "('mysql',)\n",
      "('performance_schema',)\n",
      "('red_bus_details',)\n",
      "('sys',)\n"
     ]
    }
   ],
   "source": [
    "mycursor.execute(\"SHOW DATABASES\")\n",
    "\n",
    "for x in mycursor:\n",
    "  print(x)\n",
    "\n"
   ]
  },
  {
   "cell_type": "code",
   "execution_count": 33,
   "id": "b012da09-e2bd-4243-b2f4-148783a4282e",
   "metadata": {},
   "outputs": [],
   "source": [
    "mycursor.execute(\"CREATE DATABASE IF NOT EXISTS RED_BUS_DETAILS\")\n"
   ]
  },
  {
   "cell_type": "code",
   "execution_count": 35,
   "id": "bad589a6-f747-471f-9cd7-c91f02888a33",
   "metadata": {},
   "outputs": [],
   "source": [
    "mycursor.execute(\"USE RED_BUS_DETAILS\")\n"
   ]
  },
  {
   "cell_type": "code",
   "execution_count": 37,
   "id": "b6f73083-cdf5-4623-b149-4e9f4f61c2c7",
   "metadata": {},
   "outputs": [
    {
     "name": "stdout",
     "output_type": "stream",
     "text": [
      "Table Created successfully\n"
     ]
    }
   ],
   "source": [
    "# Table Creation\n",
    "mycursor.execute('''CREATE TABLE IF NOT EXISTS bus_details(\n",
    "                  ID INT AUTO_INCREMENT PRIMARY KEY,\n",
    "                  Bus_name VARCHAR(255) NOT NULL,\n",
    "                  Bus_type VARCHAR(255) NOT NULL,\n",
    "                  Start_time VARCHAR(255) NOT NULL,\n",
    "                  End_time VARCHAR(255) NOT NULL,\n",
    "                  Total_duration VARCHAR(255) NOT NULL,\n",
    "                  Price FLOAT NULL,\n",
    "                  Seats_Available VARCHAR(255) NOT NULL,\n",
    "                  Ratings Float NULL,\n",
    "                  Route_link VARCHAR(255) NULL,\n",
    "                  Route_name VARCHAR(255) NULL\n",
    "                  )''')\n",
    "print(\"Table Created successfully\")"
   ]
  },
  {
   "cell_type": "code",
   "execution_count": 45,
   "id": "66ff2053-e8ff-48c6-86c5-1b8d115efa31",
   "metadata": {},
   "outputs": [
    {
     "name": "stdout",
     "output_type": "stream",
     "text": [
      "Values inserted successfully\n"
     ]
    }
   ],
   "source": [
    "insert_query = '''INSERT INTO bus_details\n",
    "(\n",
    "    Bus_name,\n",
    "    Bus_type,\n",
    "    Start_time,\n",
    "    End_time,\n",
    "    Total_duration,\n",
    "    Price,\n",
    "    Seats_Available,\n",
    "    Ratings,\n",
    "    Route_link,\n",
    "    Route_name\n",
    ")\n",
    "VALUES (%s, %s, %s, %s, %s, %s, %s, %s, %s, %s)'''\n",
    "\n",
    "data = Final_df.values.tolist()\n",
    "\n",
    "mycursor.executemany(insert_query, data)\n",
    "\n",
    "mydb.commit()\n",
    "\n",
    "print(\"Values inserted successfully\")\n"
   ]
  },
  {
   "cell_type": "code",
   "execution_count": null,
   "id": "325970cc-5655-4d5a-9ff4-59d5f9817b55",
   "metadata": {},
   "outputs": [],
   "source": []
  }
 ],
 "metadata": {
  "kernelspec": {
   "display_name": "Python 3 (ipykernel)",
   "language": "python",
   "name": "python3"
  },
  "language_info": {
   "codemirror_mode": {
    "name": "ipython",
    "version": 3
   },
   "file_extension": ".py",
   "mimetype": "text/x-python",
   "name": "python",
   "nbconvert_exporter": "python",
   "pygments_lexer": "ipython3",
   "version": "3.12.4"
  }
 },
 "nbformat": 4,
 "nbformat_minor": 5
}
